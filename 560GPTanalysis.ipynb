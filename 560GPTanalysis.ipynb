{
  "nbformat": 4,
  "nbformat_minor": 0,
  "metadata": {
    "colab": {
      "provenance": []
    },
    "kernelspec": {
      "name": "python3",
      "display_name": "Python 3"
    },
    "language_info": {
      "name": "python"
    }
  },
  "cells": [
    {
      "cell_type": "code",
      "execution_count": 1,
      "metadata": {
        "id": "reCYiMIcezsK"
      },
      "outputs": [],
      "source": [
        "import pandas as pd\n",
        "from sklearn.metrics import accuracy_score, f1_score, classification_report"
      ]
    },
    {
      "cell_type": "code",
      "source": [
        "df = pd.read_csv('small_data_gpt.csv')\n",
        "y_true = df['subreddit']\n",
        "y_pred = df['GPT Classification']"
      ],
      "metadata": {
        "id": "ckjQD3OSe1KK"
      },
      "execution_count": 2,
      "outputs": []
    },
    {
      "cell_type": "code",
      "source": [
        "acc = accuracy_score(y_true, y_pred)\n",
        "f1 = f1_score(y_true, y_pred, average='weighted')\n",
        "print('Accuracy:', acc)\n",
        "print('F1 Score:', f1)"
      ],
      "metadata": {
        "colab": {
          "base_uri": "https://localhost:8080/"
        },
        "id": "fZ19erm_f4bn",
        "outputId": "00181982-2f87-48d2-ee4d-357bea31d574"
      },
      "execution_count": 3,
      "outputs": [
        {
          "output_type": "stream",
          "name": "stdout",
          "text": [
            "Accuracy: 0.4968\n",
            "F1 Score: 0.5549191178518944\n"
          ]
        }
      ]
    }
  ]
}